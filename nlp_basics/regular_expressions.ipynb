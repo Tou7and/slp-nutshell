{
 "cells": [
  {
   "cell_type": "code",
   "execution_count": 43,
   "id": "55479e35-6e10-4069-aca2-f133452f9c1d",
   "metadata": {},
   "outputs": [],
   "source": [
    "# A sentence sample: You can replace this to any sentence you want\n",
    "\n",
    "# sent_1 = \"Outside of a dog, a book is probably a man's best friend. Inside of a dog, it's too dark to read.\"\n",
    "sent = \"Steve Jobs手上拿著一隻iphone\""
   ]
  },
  {
   "cell_type": "code",
   "execution_count": 44,
   "id": "0e922457-0f9b-44db-98d1-a2e0fa9df20d",
   "metadata": {},
   "outputs": [
    {
     "name": "stdout",
     "output_type": "stream",
     "text": [
      "Steve (0, 5)\n",
      "Jobs (6, 10)\n",
      "iphone (16, 22)\n",
      "\n",
      "Steve Jobs iphone\n"
     ]
    }
   ],
   "source": [
    "# Catch all English words\n",
    "import re\n",
    "pattern = re.compile('[A-Za-z]+')\n",
    "results = pattern.finditer(sent)\n",
    "\n",
    "en_words = []\n",
    "for result in results:\n",
    "    print(result.group(), result.span())\n",
    "    en_words.append(result.group())\n",
    "\n",
    "print()\n",
    "sent_new = \" \".join(en_words)\n",
    "print(sent_new)"
   ]
  },
  {
   "cell_type": "code",
   "execution_count": 45,
   "id": "44044215-f8ed-4751-b55d-f5b6aa305921",
   "metadata": {},
   "outputs": [
    {
     "name": "stdout",
     "output_type": "stream",
     "text": [
      "手 (10, 11)\n",
      "上 (11, 12)\n",
      "拿 (12, 13)\n",
      "著 (13, 14)\n",
      "一 (14, 15)\n",
      "隻 (15, 16)\n",
      "\n",
      "手上拿著一隻\n"
     ]
    }
   ],
   "source": [
    "# Catch all Mandarin characters\n",
    "pattern_zh = re.compile(u'[⺀-⺙⺛-⻳⼀-⿕々〇〡-〩〸-〺〻㐀-䶵一-鿃豈-鶴侮-頻並-龎]')\n",
    "results = pattern_zh.finditer(sent)\n",
    "\n",
    "zh_chars = []\n",
    "for result in results:\n",
    "    print(result.group(), result.span())\n",
    "    zh_chars.append(result.group())\n",
    "sent_new = \"\".join(zh_chars)\n",
    "\n",
    "print()\n",
    "print(sent_new)"
   ]
  },
  {
   "cell_type": "code",
   "execution_count": 52,
   "id": "bb55dc4b-1d2d-4e60-9dea-100b7e9e43d2",
   "metadata": {},
   "outputs": [
    {
     "name": "stdout",
     "output_type": "stream",
     "text": [
      "。 (85, 86)\n",
      "。 (117, 118)\n",
      "。 (154, 155)\n",
      "。 (179, 180)\n",
      "! (207, 208)\n",
      "。 (247, 248)\n",
      "正規表示式（英語：Regular Expression，常簡寫為regex、regexp或RE），又稱正規表達式、正規表示法、規則運算式、常規表示法，是電腦科學的一個概念\n",
      "正規表示式使用單個字串來描述、符合一系列符合某個句法規則的字串\n",
      "在很多文字編輯器裡，正則表達式通常被用來檢索、替換那些符合某個模式的文字\n",
      "許多程式設計語言都支援利用正則表達式進行字串操作\n",
      "例如，在Perl中就內建了一個功能強大的正則表達式引擎\n",
      "正則表達式這個概念最初是由Unix中的工具軟體（例如sed和grep）普及開的\n"
     ]
    }
   ],
   "source": [
    "# Sentence segmentation\n",
    "corpora = '正規表示式（英語：Regular Expression，常簡寫為regex、regexp或RE），又稱正規表達式、正規表示法、規則運算式、常規表示法，是電腦科學的一個概念。正規表示式使用單個字串來描述、符合一系列符合某個句法規則的字串。在很多文字編輯器裡，正則表達式通常被用來檢索、替換那些符合某個模式的文字。許多程式設計語言都支援利用正則表達式進行字串操作。例如，在Perl中就內建了一個功能強大的正則表達式引擎!正則表達式這個概念最初是由Unix中的工具軟體（例如sed和grep）普及開的。'\n",
    "pattern = re.compile('[。!]')\n",
    "results = pattern.finditer(corpora)\n",
    "\n",
    "sent_list = []\n",
    "start_idx = 0\n",
    "for result in results:\n",
    "    print(result.group(), result.span())\n",
    "    sent_list.append(corpora[start_idx:result.span()[0]])\n",
    "    start_idx = result.span()[1]\n",
    "\n",
    "for sent in sent_list:\n",
    "    print(sent)"
   ]
  },
  {
   "cell_type": "code",
   "execution_count": null,
   "id": "93114c59-8d2b-4ed1-b4ff-5d2334a7452f",
   "metadata": {},
   "outputs": [],
   "source": []
  }
 ],
 "metadata": {
  "kernelspec": {
   "display_name": "Python 3 (ipykernel)",
   "language": "python",
   "name": "python3"
  },
  "language_info": {
   "codemirror_mode": {
    "name": "ipython",
    "version": 3
   },
   "file_extension": ".py",
   "mimetype": "text/x-python",
   "name": "python",
   "nbconvert_exporter": "python",
   "pygments_lexer": "ipython3",
   "version": "3.9.6"
  }
 },
 "nbformat": 4,
 "nbformat_minor": 5
}
