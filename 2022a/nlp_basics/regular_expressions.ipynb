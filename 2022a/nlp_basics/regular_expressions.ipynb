{
 "cells": [
  {
   "cell_type": "code",
   "execution_count": 47,
   "id": "55479e35-6e10-4069-aca2-f133452f9c1d",
   "metadata": {},
   "outputs": [],
   "source": [
    "# A sentence sample: You can replace this to any sentence you want\n",
    "sent = \"Steve Jobs 手上拿著一隻 iphone，好潮ㄛ，我的褲子都濕ㄌ！\""
   ]
  },
  {
   "cell_type": "code",
   "execution_count": null,
   "id": "d96b5e40-c4d4-4c89-89ac-98dc87575b01",
   "metadata": {},
   "outputs": [],
   "source": [
    "# Try:\n",
    "#   extracting English from the the text.\n",
    "#   extracting Mandarin from the text.\n",
    "#   spliting the sentences in a large corpus based on some marks."
   ]
  },
  {
   "cell_type": "code",
   "execution_count": null,
   "id": "0e922457-0f9b-44db-98d1-a2e0fa9df20d",
   "metadata": {},
   "outputs": [],
   "source": [
    "# Example 1: Catch all English words\n",
    "import re\n",
    "pattern = re.compile('[A-Za-z]')\n",
    "results = pattern.finditer(sent)\n",
    "\n",
    "en_words = []\n",
    "for result in results:\n",
    "    print(result.group(), result.span())\n",
    "    en_words.append(result.group())\n",
    "\n",
    "sent_new = \" \".join(en_words)\n",
    "print(\"\\n\" + sent_new)"
   ]
  },
  {
   "cell_type": "code",
   "execution_count": null,
   "id": "d9fd1bf9-432c-4377-b5bd-840c3a586c97",
   "metadata": {},
   "outputs": [],
   "source": [
    "# Let's define a function that shows the results given regx rule and sentence.\n",
    "def show_results(rule, sent):\n",
    "    pattern = re.compile(rule)\n",
    "    results = pattern.finditer(sent)\n",
    "    words = []\n",
    "    for result in results:\n",
    "        print(result.group(), result.span())\n",
    "        words.append(result.group())\n",
    "\n",
    "    sent_new = \" \".join(words)\n",
    "    print(\"\\nNew Sentence: \" + sent_new)\n",
    "    return"
   ]
  },
  {
   "cell_type": "code",
   "execution_count": null,
   "id": "a1e2a482-97cd-49c2-830f-7dfc24a8dd84",
   "metadata": {},
   "outputs": [],
   "source": [
    "# Try to add a plus, and continuous matches will be treat as one match\n",
    "show_results(\"[A-Za-z]+\", sent)"
   ]
  },
  {
   "cell_type": "code",
   "execution_count": 48,
   "id": "e595cff6-f1a8-41b3-8c06-19ad08313f9f",
   "metadata": {},
   "outputs": [
    {
     "name": "stdout",
     "output_type": "stream",
     "text": [
      "  (5, 6)\n",
      " 手上拿著一隻  (10, 18)\n",
      "，好潮ㄛ，我的褲子都濕ㄌ！ (24, 37)\n",
      "\n",
      "New Sentence:    手上拿著一隻  ，好潮ㄛ，我的褲子都濕ㄌ！\n"
     ]
    }
   ],
   "source": [
    "# Example 2: Catch all Mandarin characters using not-english logic\n",
    "show_results(\"[^A-Za-z]+\", sent)"
   ]
  },
  {
   "cell_type": "code",
   "execution_count": 49,
   "id": "44044215-f8ed-4751-b55d-f5b6aa305921",
   "metadata": {},
   "outputs": [
    {
     "name": "stdout",
     "output_type": "stream",
     "text": [
      "手上拿著一隻 (11, 17)\n",
      "好潮 (25, 27)\n",
      "我的褲子都濕 (29, 35)\n",
      "\n",
      "New Sentence: 手上拿著一隻 好潮 我的褲子都濕\n"
     ]
    }
   ],
   "source": [
    "# Example 2: Catch all Mandarin characters using mystic rules found on Internet\n",
    "show_results(\"[⺀-⺙⺛-⻳⼀-⿕々〇〡-〩〸-〺〻㐀-䶵一-鿃豈-鶴侮-頻並-龎]+\", sent)"
   ]
  },
  {
   "cell_type": "code",
   "execution_count": null,
   "id": "bb55dc4b-1d2d-4e60-9dea-100b7e9e43d2",
   "metadata": {},
   "outputs": [],
   "source": [
    "# Example3: Sentence segmentation using regular expression\n",
    "corpora = \"\"\"\n",
    "正規表示式（英語：Regular Expression，常簡寫為regex、regexp或RE），又稱正規表達式、正規表示法、規則運算式、常規表示法，是電腦科學的一個概念。\n",
    "正規表示式使用單個字串來描述、符合一系列符合某個句法規則的字串。在很多文字編輯器裡，正則表達式通常被用來檢索、替換那些符合某個模式的文字。\n",
    "許多程式設計語言都支援利用正則表達式進行字串操作。例如，在Perl中就內建了一個功能強大的正則表達式引擎!正則表達式這個概念最初是由Unix中的工具軟體（例如sed和grep）普及開的。'\n",
    "\"\"\"\n",
    "show_results(\"[^。!]+\", corpora)"
   ]
  },
  {
   "cell_type": "code",
   "execution_count": null,
   "id": "93114c59-8d2b-4ed1-b4ff-5d2334a7452f",
   "metadata": {},
   "outputs": [],
   "source": [
    "# Practice: write a Regex that extract Bopomofo\n",
    "your_regex_rule = \"\"\n",
    "show_results(your_regex_rule, sent)"
   ]
  },
  {
   "cell_type": "code",
   "execution_count": null,
   "id": "5e687c1d-6b9c-4d7e-9a90-19c2fab8a478",
   "metadata": {},
   "outputs": [],
   "source": []
  }
 ],
 "metadata": {
  "kernelspec": {
   "display_name": "Python 3 (ipykernel)",
   "language": "python",
   "name": "python3"
  },
  "language_info": {
   "codemirror_mode": {
    "name": "ipython",
    "version": 3
   },
   "file_extension": ".py",
   "mimetype": "text/x-python",
   "name": "python",
   "nbconvert_exporter": "python",
   "pygments_lexer": "ipython3",
   "version": "3.9.6"
  }
 },
 "nbformat": 4,
 "nbformat_minor": 5
}
