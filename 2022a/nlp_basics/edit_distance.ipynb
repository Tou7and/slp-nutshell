{
 "cells": [
  {
   "cell_type": "code",
   "execution_count": 25,
   "id": "35296f4a-4714-48c0-b360-baa882ef2da8",
   "metadata": {},
   "outputs": [],
   "source": [
    "# Edit Distance\n",
    "# https://pypi.org/project/edit-distance/\n",
    "\n",
    "string_1 = \"瑪莉有隻小綿羊\"\n",
    "string_2 = \"我有一隻小毛驢\""
   ]
  },
  {
   "cell_type": "code",
   "execution_count": 3,
   "id": "3946151a-319e-4722-880d-d226b607af6e",
   "metadata": {},
   "outputs": [
    {
     "name": "stdout",
     "output_type": "stream",
     "text": [
      "Collecting edit-distance\n",
      "  Using cached edit_distance-1.0.4-py3-none-any.whl (11 kB)\n",
      "Installing collected packages: edit-distance\n",
      "Successfully installed edit-distance-1.0.4\n"
     ]
    }
   ],
   "source": [
    "# Install a pip package in the current Jupyter kernel\n",
    "import sys\n",
    "!{sys.executable} -m pip install edit-distance"
   ]
  },
  {
   "cell_type": "code",
   "execution_count": 26,
   "id": "4f03c661-02fa-4d08-9036-cca76edd5103",
   "metadata": {},
   "outputs": [
    {
     "name": "stdout",
     "output_type": "stream",
     "text": [
      "sub: 5\n",
      "ins: 0\n",
      "del: 0\n",
      "eql: 2\n",
      "\n",
      "edit distance: 5\n"
     ]
    }
   ],
   "source": [
    "import edit_distance\n",
    "ref = list(string_1)\n",
    "hyp = list(string_2)\n",
    "sm = edit_distance.SequenceMatcher(a=ref, b=hyp)\n",
    "codes = sm.get_opcodes()\n",
    "\n",
    "n_sub = 0\n",
    "n_ins = 0\n",
    "n_del = 0\n",
    "n_eql = 0\n",
    "for code in codes:\n",
    "    if code[0] == 'insert':\n",
    "        n_ins +=1\n",
    "    elif code[0] == 'replace':\n",
    "        n_sub +=1\n",
    "    elif code[0] == 'delete':\n",
    "        n_del +=1\n",
    "    else:\n",
    "        n_eql +=1\n",
    "print(\"sub:\",n_sub)\n",
    "print(\"ins:\",n_ins)\n",
    "print(\"del:\",n_del)\n",
    "print(\"eql:\",n_eql)\n",
    "\n",
    "print()\n",
    "dist = n_sub+n_ins+n_del\n",
    "print(\"edit distance:\", dist)"
   ]
  },
  {
   "cell_type": "code",
   "execution_count": 29,
   "id": "f7d8cce5-ccb9-4b82-addc-52401fdbd42d",
   "metadata": {},
   "outputs": [],
   "source": [
    "# let's wrap it as a fucntion\n",
    "def get_edit_distance(ref, hyp):\n",
    "    sm = edit_distance.SequenceMatcher(a=ref, b=hyp)\n",
    "    codes = sm.get_opcodes()\n",
    "    n_sub = 0\n",
    "    n_ins = 0\n",
    "    n_del = 0\n",
    "    n_eql = 0\n",
    "    for code in codes:\n",
    "        if code[0] == 'insert':\n",
    "            n_ins +=1\n",
    "        elif code[0] == 'replace':\n",
    "            n_sub +=1\n",
    "        elif code[0] == 'delete':\n",
    "            n_del +=1\n",
    "        else:\n",
    "            n_eql +=1\n",
    "    return n_sub+n_ins+n_del"
   ]
  },
  {
   "cell_type": "code",
   "execution_count": 30,
   "id": "13d4d75b-a5fc-4bb8-b894-3ab530a5ad33",
   "metadata": {},
   "outputs": [
    {
     "data": {
      "text/plain": [
       "2"
      ]
     },
     "execution_count": 30,
     "metadata": {},
     "output_type": "execute_result"
    }
   ],
   "source": [
    "get_edit_distance(\"吃葡萄不吐葡萄皮\", \"不吃葡萄倒吐葡萄皮\")"
   ]
  },
  {
   "cell_type": "code",
   "execution_count": null,
   "id": "ea4a1e34-0b41-4512-87cf-f74fe514e29a",
   "metadata": {},
   "outputs": [],
   "source": []
  }
 ],
 "metadata": {
  "kernelspec": {
   "display_name": "Python 3 (ipykernel)",
   "language": "python",
   "name": "python3"
  },
  "language_info": {
   "codemirror_mode": {
    "name": "ipython",
    "version": 3
   },
   "file_extension": ".py",
   "mimetype": "text/x-python",
   "name": "python",
   "nbconvert_exporter": "python",
   "pygments_lexer": "ipython3",
   "version": "3.9.6"
  }
 },
 "nbformat": 4,
 "nbformat_minor": 5
}
