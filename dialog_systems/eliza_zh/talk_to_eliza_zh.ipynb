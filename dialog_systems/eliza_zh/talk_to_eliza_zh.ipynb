{
 "cells": [
  {
   "cell_type": "code",
   "execution_count": null,
   "id": "ce8669bc-bc2b-4250-aa68-34b843cc359e",
   "metadata": {},
   "outputs": [],
   "source": [
    "# Download necessary files\n",
    "!wget https://github.com/fxsjy/jieba/raw/master/extra_dict/dict.txt.big\n"
   ]
  },
  {
   "cell_type": "code",
   "execution_count": null,
   "id": "c8b71233-b847-4352-b274-09350928bf93",
   "metadata": {},
   "outputs": [
    {
     "name": "stdout",
     "output_type": "stream",
     "text": [
      "你好 請 告訴 我 你 的 問題\n"
     ]
    },
    {
     "name": "stdin",
     "output_type": "stream",
     "text": [
      ">  我是隻小小鳥\n"
     ]
    },
    {
     "name": "stdout",
     "output_type": "stream",
     "text": [
      "你 相信 你 是 隻 小小鳥 嗎\n"
     ]
    },
    {
     "name": "stdin",
     "output_type": "stream",
     "text": [
      ">  隊\n"
     ]
    },
    {
     "name": "stdout",
     "output_type": "stream",
     "text": [
      "我 不 確定 我 是否 完全 理解 你\n"
     ]
    },
    {
     "name": "stdin",
     "output_type": "stream",
     "text": [
      ">  我希望你能理解\n"
     ]
    },
    {
     "name": "stdout",
     "output_type": "stream",
     "text": [
      "請 繼續\n"
     ]
    },
    {
     "name": "stdin",
     "output_type": "stream",
     "text": [
      ">  我是隻大大鳥\n"
     ]
    },
    {
     "name": "stdout",
     "output_type": "stream",
     "text": [
      "你 想 成 為 隻 大大 鳥 嗎\n"
     ]
    },
    {
     "name": "stdin",
     "output_type": "stream",
     "text": [
      ">  不對\n"
     ]
    },
    {
     "name": "stdout",
     "output_type": "stream",
     "text": [
      "這 對 你 有 什麼 建議\n"
     ]
    },
    {
     "name": "stdin",
     "output_type": "stream",
     "text": [
      ">  沒有\n"
     ]
    },
    {
     "name": "stdout",
     "output_type": "stream",
     "text": [
      "你 對 討論 這些 事情 有 強烈 的 感覺 嗎\n"
     ]
    },
    {
     "name": "stdin",
     "output_type": "stream",
     "text": [
      ">  隊\n"
     ]
    },
    {
     "name": "stdout",
     "output_type": "stream",
     "text": [
      "我 不 確定 我 是否 完全 理解 你\n"
     ]
    }
   ],
   "source": [
    "import re\n",
    "import jieba\n",
    "from eliza_zh import Eliza\n",
    "\n",
    "\n",
    "jieba.load_userdict(\"dict.txt.big\")\n",
    "\n",
    "eliza_bot = Eliza()\n",
    "eliza_bot.load('doctor_zh4.txt')\n",
    "\n",
    "print(eliza_bot.initial())\n",
    "\n",
    "while True:\n",
    "    sent = input('> ')\n",
    "    words = jieba.cut(sent)\n",
    "    sent = \"> \" + \" \".join(words)\n",
    "    sent = re.sub(\" +\", \" \", sent)\n",
    "    sent = re.sub(\"我 的\", \"我的\", sent)\n",
    "    sent = re.sub(\"我 是\", \"我是\", sent)\n",
    "    \n",
    "    response = eliza_bot.respond(sent)\n",
    "    if response is None:\n",
    "        break\n",
    "    print(response)\n",
    "print(eliza_bot.final())"
   ]
  },
  {
   "cell_type": "code",
   "execution_count": null,
   "id": "03fc4151-41de-4c60-9c31-cc9625ed465f",
   "metadata": {},
   "outputs": [],
   "source": []
  }
 ],
 "metadata": {
  "kernelspec": {
   "display_name": "Python 3 (ipykernel)",
   "language": "python",
   "name": "python3"
  },
  "language_info": {
   "codemirror_mode": {
    "name": "ipython",
    "version": 3
   },
   "file_extension": ".py",
   "mimetype": "text/x-python",
   "name": "python",
   "nbconvert_exporter": "python",
   "pygments_lexer": "ipython3",
   "version": "3.9.6"
  }
 },
 "nbformat": 4,
 "nbformat_minor": 5
}
