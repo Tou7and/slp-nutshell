{
 "cells": [
  {
   "cell_type": "code",
   "execution_count": 1,
   "id": "3f8343b9-c62b-4abe-a24b-03e255cc56b4",
   "metadata": {},
   "outputs": [],
   "source": [
    "import sys\n",
    "from collections import Counter"
   ]
  },
  {
   "cell_type": "code",
   "execution_count": 2,
   "id": "f505ea43-d3f9-4a23-b606-fc4b5433328a",
   "metadata": {},
   "outputs": [
    {
     "name": "stdout",
     "output_type": "stream",
     "text": [
      "自從俄羅斯入侵烏克蘭開始台灣海峽的安全問\n",
      "題再次成為外界關注焦點烏克蘭危機加劇之際\n",
      "台灣社會及輿論也就台灣的軍事戰略及訓練方\n"
     ]
    }
   ],
   "source": [
    "# Read the text file and do data cleaning\n",
    "train_text_file = \"./train.txt\"\n",
    "\n",
    "def read_and_clean(text_file):\n",
    "    \"\"\" Read and clean Mandarin data.\n",
    "        Treat each character as a word.\n",
    "        Remove unwant symbols using replace.\n",
    "    \n",
    "    Args:\n",
    "        text_file(str): the file path of the text file.\n",
    "    \n",
    "    Returns:\n",
    "        words(str): Mandarins without unwanted symbols.\n",
    "    \"\"\"\n",
    "    with open(text_file, 'r') as reader:\n",
    "        words = reader.read()\n",
    "    words = words.replace(\"\\n\", \"\")\n",
    "    words = words.replace(\" \", \"\")\n",
    "    return words\n",
    "\n",
    "words = read_and_clean(train_text_file)\n",
    "print(words[:20])\n",
    "print(words[20:40])\n",
    "print(words[40:60])"
   ]
  },
  {
   "cell_type": "code",
   "execution_count": 3,
   "id": "5eed395d-fac2-4033-8ddf-795e4a64a026",
   "metadata": {},
   "outputs": [],
   "source": [
    "def get_unigram(words, norm=True):\n",
    "    \"\"\" Use A counter to store the unigrams. \n",
    "    \n",
    "    Args:\n",
    "        words(str)\n",
    "        norm(bol)\n",
    "    \"\"\"\n",
    "    unigram_counts = Counter()\n",
    "    n_words = len(words)\n",
    "\n",
    "    for word in words:\n",
    "        unigram_counts[word] += 1\n",
    "    \n",
    "    # normalization\n",
    "    if norm:\n",
    "        for k, w in unigram_counts.most_common():\n",
    "            unigram_counts[k] = float(w/n_words)\n",
    "    return unigram_counts"
   ]
  },
  {
   "cell_type": "code",
   "execution_count": 28,
   "id": "7c20c4c0-2577-41be-ad16-72e3bdb51e38",
   "metadata": {},
   "outputs": [
    {
     "name": "stdout",
     "output_type": "stream",
     "text": [
      "台 0.034139402560455195\n",
      "灣 0.034139402560455195\n",
      "的 0.029871977240398292\n",
      "國 0.02702702702702703\n",
      "戰 0.02275960170697013\n",
      "軍 0.01991465149359886\n",
      "不 0.01849217638691323\n",
      "對 0.017069701280227598\n",
      "稱 0.01422475106685633\n",
      "防 0.012802275960170697\n"
     ]
    }
   ],
   "source": [
    "unigrams = get_unigram(words)\n",
    "\n",
    "for k, w in unigram.most_common(10):\n",
    "    print(k, w)"
   ]
  },
  {
   "cell_type": "code",
   "execution_count": 4,
   "id": "92f6bcac-47dd-4c9c-ad55-2b170ea59192",
   "metadata": {},
   "outputs": [],
   "source": [
    "def get_bigram(words, norm=True):\n",
    "    \"\"\" Use A Counter to Store the bigram model. \"\"\"\n",
    "    bigram_counts = Counter()\n",
    "    n_words = len(words)\n",
    "    bigram_list = []\n",
    "\n",
    "    for idx in range(n_words-2+1):\n",
    "        bigram_list.append(words[idx:idx+2])\n",
    "\n",
    "    n_bigram = len(bigram_list)\n",
    "\n",
    "    for bigram in bigram_list:\n",
    "        bigram_counts[bigram] += 1\n",
    "\n",
    "    if norm:\n",
    "        for k, w in bigram_counts.most_common():\n",
    "            bigram_counts[k] = float(w/n_bigram)\n",
    "    return bigram_counts"
   ]
  },
  {
   "cell_type": "code",
   "execution_count": 9,
   "id": "9fb44b17-1126-43dc-aae3-6b2e2b332f0f",
   "metadata": {},
   "outputs": [
    {
     "name": "stdout",
     "output_type": "stream",
     "text": [
      "台灣 24\n",
      "不對 9\n",
      "對稱 9\n",
      "烏克 6\n",
      "克蘭 6\n",
      "軍事 6\n",
      "稱作 6\n",
      "作戰 6\n",
      "國防 5\n",
      "成為 4\n",
      "\n",
      "Context: 軍\n",
      "軍事 6\n",
      "軍力 1\n",
      "軍新 1\n",
      "軍艦 1\n",
      "軍之 1\n",
      "軍售 1\n",
      "軍構 1\n",
      "軍隊 1\n",
      "軍思 1\n"
     ]
    }
   ],
   "source": [
    "bigrams = get_bigram(words, norm=False)\n",
    "\n",
    "for k, w in bigrams.most_common(10):\n",
    "    print(k, w)\n",
    "\n",
    "context = \"軍\"\n",
    "print()\n",
    "print(\"Context: {}\".format(\"軍\"))\n",
    "for k, w in bigrams.most_common():\n",
    "    if k[0] == context:\n",
    "        print(k, w)"
   ]
  },
  {
   "cell_type": "code",
   "execution_count": 8,
   "id": "120353b0-dafa-4595-9883-8709f38441dd",
   "metadata": {},
   "outputs": [],
   "source": [
    "# Implement Trigram, \n",
    "# and print the top 10 trigrams of the training corpus.\n",
    "def get_trigram(words, norm=True):\n",
    "    trigram_counts = Counter()\n",
    "    return trigram_counts"
   ]
  },
  {
   "cell_type": "code",
   "execution_count": null,
   "id": "6dc1dc35-bbb8-4ee8-a7df-cf86f6ed3650",
   "metadata": {},
   "outputs": [],
   "source": []
  }
 ],
 "metadata": {
  "kernelspec": {
   "display_name": "Python 3 (ipykernel)",
   "language": "python",
   "name": "python3"
  },
  "language_info": {
   "codemirror_mode": {
    "name": "ipython",
    "version": 3
   },
   "file_extension": ".py",
   "mimetype": "text/x-python",
   "name": "python",
   "nbconvert_exporter": "python",
   "pygments_lexer": "ipython3",
   "version": "3.9.6"
  }
 },
 "nbformat": 4,
 "nbformat_minor": 5
}
